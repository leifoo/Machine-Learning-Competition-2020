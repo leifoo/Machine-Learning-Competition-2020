{
 "cells": [
  {
   "cell_type": "markdown",
   "metadata": {},
   "source": [
    "# Notes of book \"Machine Learning for Subsurface Characterization\"\n",
    "\n",
    "* __Author__: _Lei Fu_\n",
    "* __Date__: 04/20/2020\n",
    "\n",
    "- <a>0. Information</a>\n",
    "- <a>1. Unsupervised outlier detection techniques for well logs and geophysical data </a>\n",
    "    - <a>1.1. Introduction</a>\n",
    "    - <a>1.2 Outlier detection techniques</a>\n",
    "    - <a>1.3 Unsupervised outlier detection techniques</a>\n",
    "    - <a>1.4 Comparative study of unsupervised outlier detection methods on well logs</a>\n",
    "    - <a>1.5 Performance of unsupervised ODTs on the four validation datasets</a>\n",
    "    - <a>1.6 Conclusions</a>\n",
    " \n",
    "\n",
    "## <a>0. Information </a>\n",
    "\n",
    "    https://books.google.com/books?hl=en&lr=&id=WdO1DwAAQBAJ&oi=fnd&pg=PA1&dq=Unsupervised+Outlier+Detection+Techniques+for+Well+Logs+and+Geophysical+Data&ots=bqx1qdGVIz&sig=6sUAVkNO4yxcD3NhszLhicyMMrc#v=onepage&q&f=false\n",
    "    \n",
    "## <a>1. Unsupervised outlier detection techniques for well logs and geophysical data </a>\n",
    "\n",
    "### <a>1.1. Introduction</a>\n",
    "\n",
    "For example, washed out zones in the wellbore and borehole rugosity significantly affects the reading os shallow-sensing logs, such as density, sonic, and photoelectric factor (PEF) logs, resulting in outlier response. Along with wellbore condistions, uncommon beds and sudden change in physical/chemical properties at a certain depth in formation also result in outlier behavior of the subsurface measurements.\n",
    "\n",
    "#### 1.1.1 Basic terminologies in machine learning and data-driven models\n",
    "\n",
    "\n",
    "\n",
    "#### 1.1.2 Types of machine learning techniques\n",
    "\n",
    "#### 1.1.3 Types of outliers"
   ]
  },
  {
   "cell_type": "code",
   "execution_count": null,
   "metadata": {},
   "outputs": [],
   "source": []
  }
 ],
 "metadata": {
  "kernelspec": {
   "display_name": "tf_gpu_2.1.0",
   "language": "python",
   "name": "tf_gpu"
  },
  "language_info": {
   "codemirror_mode": {
    "name": "ipython",
    "version": 3
   },
   "file_extension": ".py",
   "mimetype": "text/x-python",
   "name": "python",
   "nbconvert_exporter": "python",
   "pygments_lexer": "ipython3",
   "version": "3.7.7"
  }
 },
 "nbformat": 4,
 "nbformat_minor": 2
}
