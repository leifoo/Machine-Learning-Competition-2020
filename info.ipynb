{
 "cells": [
  {
   "cell_type": "markdown",
   "metadata": {},
   "source": [
    "# Information\n",
    "\n",
    "\n",
    "## Linkedin Post\n",
    "\n",
    "### Post 1\n",
    "\n",
    "We are excited to announce that the first #SPWLA-PDDA #machine_learning competition is officially launched. In this competition, two psudo-sonic curves need to be predicted from 7 other traditional #well-logging curves.\n",
    "\n",
    "If you are interested in the #competition, please send your #registration information to pdda_sig@spwla.org. #Prizes and opportunities to publish in #Petrophysics journal will be awarded at the end of the competition.\n",
    "\n",
    "Please see more details from the attached announcement and tutorial. The official competition website is https://lnkd.in/e6YitvS.\n",
    "\n",
    "https://www.linkedin.com/posts/activity-6640693851973578752-yR0t/\n",
    "\n",
    "### Post 2\n",
    "\n",
    "A follow up to the last post, here is a tutorial on the competition. There's also a JupyterNotebook \"Starter's kit\" written in Python that's posted on the competition website. https://lnkd.in/e6YitvS.\n",
    "\n",
    "Thanks for sharing. There is quite a bit of noise in the predicted results that is much larger than what tools typically acquire.  I think is a good demonstration of why collecting real data from ever-improving tools and using data-adaptive algorithms to derive data products remains the best approach.\n",
    "\n",
    "Thank you Kristoffer for the excellent point. However, this tutorial is a very basic model with minimum preprocessing. We should have a better understanding of Data-driven algorithms' performance after the competition is finished.\n",
    "\n",
    "https://www.linkedin.com/posts/yanxiang-yu_tutorial-activity-6640770064003973120-L5JH\n",
    "\n",
    "## \n"
   ]
  }
 ],
 "metadata": {
  "kernelspec": {
   "display_name": "Python 3",
   "language": "python",
   "name": "python3"
  },
  "language_info": {
   "codemirror_mode": {
    "name": "ipython",
    "version": 3
   },
   "file_extension": ".py",
   "mimetype": "text/x-python",
   "name": "python",
   "nbconvert_exporter": "python",
   "pygments_lexer": "ipython3",
   "version": "3.7.6"
  }
 },
 "nbformat": 4,
 "nbformat_minor": 4
}
